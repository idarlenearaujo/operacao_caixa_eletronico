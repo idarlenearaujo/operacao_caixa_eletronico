{
 "cells": [
  {
   "cell_type": "code",
   "execution_count": null,
   "metadata": {},
   "outputs": [],
   "source": [
    "# Cadastrar cliente\n",
    "def cadastrar_cliente(clientes):\n",
    "\n",
    "    cliente = {}\n",
    "\n",
    "    cliente['cpf'] = input('\\nDigite o CPF:')\n",
    "\n",
    "    if not cpf_exists(cliente['cpf'], clientes): # Conferência de cadastro\n",
    "        cliente['nome'] = input('\\nDigite o nome: ')\n",
    "        cliente['data_nascimento'] = input('\\nDigite data de nascimento: ') \n",
    "        cliente['endereco'] = input('\\nDigite o endereco [Rua, número - Bairro - Cidade - UF]: ')\n",
    "    \n",
    "        clientes.append(cliente) # Aramazenando em uma lista\n",
    "        print('\\nCliente Cadastrado!\\n')\n",
    "\n",
    "    else:\n",
    "        print('\\nCPF já cadastrado!!!\\n')\n"
   ]
  },
  {
   "cell_type": "code",
   "execution_count": null,
   "metadata": {},
   "outputs": [],
   "source": [
    "# Cadastrando conta\n",
    "def cadastrar_conta(num_conta, clientes):\n",
    "\n",
    "    conta = {}\n",
    "    \n",
    "    cpf = input(\"\\nDigite o CPF do cliente: \")\n",
    "    \n",
    "    if cpf_exists(cpf, clientes):\n",
    "\n",
    "        conta['cpf'] = cpf\n",
    "        conta['agencia'] = '0001'\n",
    "        conta['numero_conta'] = num_conta\n",
    "        \n",
    "        contas.append(conta)\n",
    "\n",
    "        print('\\nConta Cadastrada!\\n')\n",
    "    \n",
    "    else:\n",
    "        print('\\nCPF não cadastrado!')"
   ]
  },
  {
   "cell_type": "code",
   "execution_count": null,
   "metadata": {},
   "outputs": [],
   "source": [
    "# Listando contas\n",
    "def listar_contas():\n",
    "    print('\\n-------------------------------------------')\n",
    "    print('----------------- CONTAS ------------------')\n",
    "    print('-------------------------------------------')\n",
    "    for conta in contas:\n",
    "        print(f\"CPF: {conta['cpf']}, Número da Conta: {conta['numero_conta']}\")\n",
    "    print('-------------------------------------------\\n')"
   ]
  },
  {
   "cell_type": "code",
   "execution_count": null,
   "metadata": {},
   "outputs": [],
   "source": [
    "# Listando clientes\n",
    "def listar_clientes():  \n",
    "    print('\\n-------------------------------------------')\n",
    "    print('---------------- CLIENTES -----------------')\n",
    "    print('-------------------------------------------')\n",
    "    for cliente in clientes:\n",
    "        print(f\"Nome: {cliente['nome']}, CPF: {cliente['cpf']}\")\n",
    "    print('-------------------------------------------\\n')"
   ]
  },
  {
   "cell_type": "code",
   "execution_count": null,
   "metadata": {},
   "outputs": [],
   "source": [
    "# Depositar dinheiro\n",
    "def depositar_cash(): # função para depositar na conta, existe verificação de valores negativos\n",
    "    \n",
    "    try:\n",
    "        valor = float(input('\\nDigite o valor a ser depositado: ')) # recebe o valor\n",
    "        \n",
    "        if valor > 0: # verifica e se maior que 0 retorna valor para conta\n",
    "            return valor\n",
    "\n",
    "    except:\n",
    "        print('\\nENTRADA INVÁLIDA!!!\\nValor esperado: > 0.00\\nInforme um valor válido.') # se valor 0 ou inferior, retorna uma mensagem e o valor 0 para conta\n"
   ]
  },
  {
   "cell_type": "code",
   "execution_count": null,
   "metadata": {},
   "outputs": [],
   "source": [
    "# Sacando dinheiro\n",
    "def sacar_cash(): # função para sacar na conta, existe a verificação se o valor a ser sacado é possível\n",
    "\n",
    "    valor = float(input('\\nDigite o valor a ser sacado: '))\n",
    "        \n",
    "    return valor"
   ]
  },
  {
   "cell_type": "code",
   "execution_count": null,
   "metadata": {},
   "outputs": [],
   "source": [
    "# Extrato\n",
    "def extrato_cash(saldo):\n",
    "    print('-------------------------------------------')\n",
    "    print('----------------- EXTRATO -----------------')\n",
    "    print('-------------------------------------------')\n",
    "    \n",
    "    for item in extrato:\n",
    "        print(item)\n",
    "        \n",
    "    print(f'\\nSaldo dispoível: R$ {saldo}')"
   ]
  },
  {
   "cell_type": "code",
   "execution_count": null,
   "metadata": {},
   "outputs": [],
   "source": [
    "def cpf_exists(cpf, clientes):\n",
    "    for cliente in clientes:\n",
    "        if cliente['cpf'] == cpf:\n",
    "            return True\n",
    "    return False"
   ]
  },
  {
   "cell_type": "code",
   "execution_count": null,
   "metadata": {},
   "outputs": [],
   "source": [
    "# Main chamada principal\n",
    "if __name__ == '__main__':\n",
    "    print('Início do sistema Bancário!\\n')\n",
    "\n",
    "    # Variáveis\n",
    "    clientes = []\n",
    "    contas = []\n",
    "    num_conta = 1\n",
    "    valor_conta = 0\n",
    "    extrato = []\n",
    "    qnt_saque = 0\n",
    "    \n",
    "    while True:\n",
    "\n",
    "        print('------------------------------------------')\n",
    "        print('------- BEM VINDO AO BANCÃO DA IDA -------')\n",
    "        print('------------------------------------------')\n",
    "        print('Digite 1 - Para Cadastrar Novos Clientes')\n",
    "        print('Digite 2 - Para Cadastrar Novas Conta')\n",
    "        print('Digite 3 - Para Listar Clientes Existentes')\n",
    "        print('Digite 4 - Para Listar Contas Existentes')\n",
    "        print('Digite 5 - Depositar Valor')\n",
    "        print('Digite 6 - Sacar Valor')\n",
    "        print('Digite 7 - Extrato Completo')\n",
    "        print('Digite 0 - Para Sair')\n",
    "\n",
    "        try:\n",
    "            opcao = int(input(\"\\nOpção: \"))\n",
    "\n",
    "            if opcao == 1:\n",
    "                cadastrar_cliente(clientes)\n",
    "            elif opcao == 2:\n",
    "                cadastrar_conta(num_conta, clientes)\n",
    "                num_conta += 1\n",
    "            elif opcao == 3:\n",
    "                listar_clientes()\n",
    "            elif opcao == 4:\n",
    "                listar_contas()\n",
    "            elif opcao == 5:\n",
    "                valor = depositar_cash()\n",
    "                valor_conta += valor\n",
    "                extrato.append(f\"\\nO valor R$ {valor:.2f} foi depositado.\")\n",
    "            elif opcao == 6:\n",
    "                if qnt_saque < 3:\n",
    "                    valor = sacar_cash()\n",
    "                    if 0 < valor <= 500:\n",
    "                        valor_conta -= valor\n",
    "                        extrato.append(f\"\\nO valor R$ {valor:.2f} foi sacado.\")\n",
    "                        qnt_saque += 1\n",
    "                    else:\n",
    "                        print('\\nValor deve ser maior que 0.00 e menor ou igual a 500.00\\n')\n",
    "                else:\n",
    "                    print('\\nA quantidade de saque limite (3) foi atingida.')\n",
    "            elif opcao == 7:\n",
    "                extrato_cash(valor_conta)\n",
    "            elif opcao == 0:\n",
    "                print('\\nSaindo da sua conta!\\n\\n# # # # # # # # # # # # # # # # # # #')\n",
    "                break\n",
    "            else:\n",
    "                print(\"\\nOpção inválida. Tente novamente.\\n\")\n",
    "        \n",
    "        except:\n",
    "            print(\"\\nOpção inválida. Tente novamente.\\n\")"
   ]
  }
 ],
 "metadata": {
  "kernelspec": {
   "display_name": "Python 3 (ipykernel)",
   "language": "python",
   "name": "python3"
  },
  "language_info": {
   "codemirror_mode": {
    "name": "ipython",
    "version": 3
   },
   "file_extension": ".py",
   "mimetype": "text/x-python",
   "name": "python",
   "nbconvert_exporter": "python",
   "pygments_lexer": "ipython3",
   "version": "3.11.4"
  }
 },
 "nbformat": 4,
 "nbformat_minor": 2
}
